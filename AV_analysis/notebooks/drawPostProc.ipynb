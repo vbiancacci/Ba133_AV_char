{
 "cells": [
  {
   "cell_type": "markdown",
   "id": "promising-floor",
   "metadata": {},
   "source": [
    "## drawPostProc\n",
    "### Quick script to test and plot individual FCCD post procs"
   ]
  },
  {
   "cell_type": "code",
   "execution_count": 7,
   "id": "packed-celebrity",
   "metadata": {},
   "outputs": [],
   "source": [
    "import sys\n",
    "import pandas as pd\n",
    "import numpy as np\n",
    "import matplotlib.pyplot as plt\n",
    "from datetime import datetime\n",
    "import json\n",
    "import os\n",
    "import fnmatch\n",
    "import h5py\n",
    "%matplotlib widget"
   ]
  },
  {
   "cell_type": "code",
   "execution_count": 2,
   "id": "collaborative-desire",
   "metadata": {},
   "outputs": [
    {
     "data": {
      "application/vnd.jupyter.widget-view+json": {
       "model_id": "61e81577132449c295137405fd735b9f",
       "version_major": 2,
       "version_minor": 0
      },
      "text/plain": [
       "Canvas(toolbar=Toolbar(toolitems=[('Home', 'Reset original view', 'home', 'home'), ('Back', 'Back to previous …"
      ]
     },
     "metadata": {},
     "output_type": "display_data"
    },
    {
     "data": {
      "text/plain": [
       "<matplotlib.legend.Legend at 0x7f2a98748510>"
      ]
     },
     "execution_count": 2,
     "metadata": {},
     "output_type": "execute_result"
    }
   ],
   "source": [
    "#Here I just wanted to check the output of analysis_DL_top.py worked as expected for TL implementation\n",
    "#Compare \"fast\" code with normal\n",
    "\n",
    "\n",
    "hdf5_path = \"/lfs/l1/legend/users/aalexander/hdf5_output/processed/\"\n",
    "\n",
    "DLF100 =  hdf5_path+\"processed_detector_IC160A_ba_top_81mmNEW8_01_newresolution_FCCD0.744mm.hdf5\"\n",
    "DLF50 = hdf5_path+\"valentina_script/processed_detector_IC160A_ba_top_81mmNEW8_01_g_FCCD0.74mm_DLF0.5.hdf5\"\n",
    "DLF50_fast = hdf5_path+\"valentina_script/processed_detector_IC160A_ba_top_81mmNEW8_01_g_FCCD0.74mm_DLF0.5_fast.hdf5\"\n",
    "\n",
    "\n",
    "df_MC_DLF100 =  pd.read_hdf(DLF100, key=\"procdf\")\n",
    "energy_MC_DLF100 = df_MC_DLF100['energy']*1000\n",
    "\n",
    "df_MC_DLF50 =  pd.read_hdf(DLF50, key=\"procdf\")\n",
    "energy_MC_DLF50 = df_MC_DLF50['energy']#*1000\n",
    "\n",
    "df_MC_DLF50_fast =  pd.read_hdf(DLF50_fast, key=\"procdf\")\n",
    "energy_MC_DLF50_fast = df_MC_DLF50_fast['energy']#*1000\n",
    "\n",
    "fig, ax = plt.subplots()\n",
    "binwidth = 0.15\n",
    "bins = np.arange(0, 450, binwidth)\n",
    "plt.hist(energy_MC_DLF100, bins = bins, label ='MC FCCD:0.74mm, DLF=1', histtype = 'step', linewidth = '0.35')\n",
    "plt.hist(energy_MC_DLF50, bins = bins, label ='MC FCCD:0.74mm, DLF=0.5', histtype = 'step', linewidth = '0.35')\n",
    "plt.hist(energy_MC_DLF50_fast, bins = bins, label ='MC FCCD:0.74mm, DLF=0.5 FASt', histtype = 'step', linewidth = '0.35')\n",
    "plt.xlabel(\"Energy [keV]\")\n",
    "plt.ylabel(\"Counts\")\n",
    "plt.xlim(0, 450)\n",
    "plt.yscale(\"log\")\n",
    "plt.legend()\n",
    "\n",
    "\n"
   ]
  },
  {
   "cell_type": "code",
   "execution_count": 3,
   "id": "postal-newton",
   "metadata": {},
   "outputs": [
    {
     "name": "stdout",
     "output_type": "stream",
     "text": [
      "Warning: pygama.io.lh5 is deprecated and will be removed in a future release. Instead import pygama.lh5.\n"
     ]
    }
   ],
   "source": [
    "#load data\n",
    "\n",
    "sys.path.append('../../data/')\n",
    "from Ba133_data_AV_analysis import * \n",
    "\n",
    "#load data, cuts and calibration\n",
    "data_path = \"/lfs/l1/legend/detector_char/enr/hades/char_data/I02160A/tier2/ba_HS4_top_dlt/pygama/v00.00/\"\n",
    "with open(\"../../data/detectors/I02160A/calibration_coef.json\") as json_file:\n",
    "    calibration_coefs = json.load(json_file)\n",
    "    m = calibration_coefs['m']\n",
    "    m_err = calibration_coefs['m_err']\n",
    "    c = calibration_coefs['c']\n",
    "    c_err = calibration_coefs['c_err']\n",
    "    \n",
    "df_data = read_all_dsp_h5(data_path, cuts=False)\n",
    "e_ftp_data = df_data['e_ftp']\n",
    "energy_data = (e_ftp_data-c)/m\n",
    "\n",
    "passed_cuts = json.load(open('/lfs/l1/legend/users/aalexander/large_files/cuts/I02160A_ba_top_passed_cuts_data.json','r')) #passed cuts\n",
    "df_data_cuts = read_all_dsp_h5(data_path, cuts=True, passed_cuts=passed_cuts)\n",
    "e_ftp_data_cuts = df_data_cuts['e_ftp']\n",
    "energy_data_cuts = (e_ftp_data_cuts-c)/m\n"
   ]
  },
  {
   "cell_type": "code",
   "execution_count": 4,
   "id": "central-hindu",
   "metadata": {},
   "outputs": [
    {
     "name": "stdout",
     "output_type": "stream",
     "text": [
      "3.1255920187062203\n"
     ]
    }
   ],
   "source": [
    "#for scaling MC\n",
    "with open('../detectors/I02160A/IC160A_ba_top_81mmNEW8_01_newresolution_FCCD0.744mm_dlt_observables.json') as json_file:\n",
    "    dlt_observables = json.load(json_file)\n",
    "    R_simdata_356_FCCD0744 = dlt_observables['R_simdata_356_counts']\n",
    "    print(R_simdata_356_FCCD0744)"
   ]
  },
  {
   "cell_type": "code",
   "execution_count": 5,
   "id": "piano-football",
   "metadata": {},
   "outputs": [
    {
     "data": {
      "application/vnd.jupyter.widget-view+json": {
       "model_id": "f2f800b8a7dc4c5bad1a33d3242fe307",
       "version_major": 2,
       "version_minor": 0
      },
      "text/plain": [
       "Canvas(toolbar=Toolbar(toolitems=[('Home', 'Reset original view', 'home', 'home'), ('Back', 'Back to previous …"
      ]
     },
     "metadata": {},
     "output_type": "display_data"
    },
    {
     "data": {
      "text/plain": [
       "<matplotlib.legend.Legend at 0x7effb9767410>"
      ]
     },
     "execution_count": 5,
     "metadata": {},
     "output_type": "execute_result"
    }
   ],
   "source": [
    "#compare slow and fast codes - they give the same output\n",
    "\n",
    "hdf5_path = \"/lfs/l1/legend/users/aalexander/hdf5_output/processed/\"\n",
    "\n",
    "fig, ax = plt.subplots()\n",
    "binwidth = 0.15\n",
    "bins = np.arange(0, 450, binwidth)\n",
    "\n",
    "plt.hist(energy_data, bins=bins,  label = \"Data\", histtype = 'step', linewidth = '0.1')\n",
    "\n",
    "DLF_list = [0.0, 0.5, 1.0]\n",
    "for DLF in DLF_list:\n",
    "    \n",
    "    DLFi = hdf5_path+\"valentina_script/processed_detector_IC160A_ba_top_81mmNEW8_01_g_FCCD0.74mm_DLF\"+str(DLF)+\"_fast.hdf5\"\n",
    "    df_MC_DLFi =  pd.read_hdf(DLFi, key=\"procdf\")\n",
    "    energy_MC_DLFi = df_MC_DLFi['energy']#*1000\n",
    "    plt.hist(energy_MC_DLFi, bins = bins, weights=(1/R_simdata_356_FCCD0744)*np.ones_like(energy_MC_DLFi), label ='MC FCCD:0.74mm, DLF='+str(DLF)+' (scaled)', histtype = 'step', linewidth = '0.1')\n",
    "    \n",
    "    \n",
    "    #compare with \"slow\" - THEY GIVE THE SAME OUTPUT!\n",
    "    DLFi = hdf5_path+\"valentina_script/processed_detector_IC160A_ba_top_81mmNEW8_01_g_FCCD0.74mm_DLF\"+str(DLF)+\".hdf5\"\n",
    "    df_MC_DLFi =  pd.read_hdf(DLFi, key=\"procdf\")\n",
    "    energy_MC_DLFi = df_MC_DLFi['energy']#*1000\n",
    "    plt.hist(energy_MC_DLFi, bins = bins, weights=(1/R_simdata_356_FCCD0744)*np.ones_like(energy_MC_DLFi), label ='MC FCCD:0.74mm, DLF='+str(DLF)+' (scaled, SLOW)', histtype = 'step', linewidth = '0.1')\n",
    "    \n",
    "  \n",
    "plt.xlabel(\"Energy [keV]\")\n",
    "plt.ylabel(\"Counts\")\n",
    "plt.xlim(0, 450)\n",
    "plt.yscale(\"log\")\n",
    "plt.legend(loc=\"lower left\")\n",
    "    \n",
    "    \n",
    "    \n",
    "    \n",
    "    \n",
    "    \n",
    "    \n",
    "    "
   ]
  },
  {
   "cell_type": "code",
   "execution_count": 9,
   "id": "inclusive-musical",
   "metadata": {},
   "outputs": [
    {
     "data": {
      "application/vnd.jupyter.widget-view+json": {
       "model_id": "0aa01833af9242efa23d998ec325a251",
       "version_major": 2,
       "version_minor": 0
      },
      "text/plain": [
       "Canvas(toolbar=Toolbar(toolitems=[('Home', 'Reset original view', 'home', 'home'), ('Back', 'Back to previous …"
      ]
     },
     "metadata": {},
     "output_type": "display_data"
    },
    {
     "data": {
      "text/plain": [
       "<matplotlib.legend.Legend at 0x7f3cb3be1a50>"
      ]
     },
     "execution_count": 9,
     "metadata": {},
     "output_type": "execute_result"
    }
   ],
   "source": [
    "#Compare all DLFs, fast code, old simulation\n",
    "\n",
    "hdf5_path = \"/lfs/l1/legend/users/aalexander/hdf5_output/processed/\"\n",
    "\n",
    "fig, ax = plt.subplots()\n",
    "binwidth = 0.15\n",
    "bins = np.arange(0, 450, binwidth)\n",
    "\n",
    "plt.hist(energy_data, bins=bins,  label = \"Data\", histtype = 'step', linewidth = '0.1')\n",
    "\n",
    "DLF_list = [0.0, 0.25, 0.5, 0.75, 1.0]\n",
    "\n",
    "for DLF in DLF_list:\n",
    "    \n",
    "    DLFi = hdf5_path+\"valentina_script/processed_detector_IC160A_ba_top_81mmNEW8_01_g_FCCD0.74mm_DLF\"+str(DLF)+\"_fast.hdf5\"\n",
    "    df_MC_DLFi =  pd.read_hdf(DLFi, key=\"procdf\")\n",
    "    energy_MC_DLFi = df_MC_DLFi['energy']#*1000\n",
    "    plt.hist(energy_MC_DLFi, bins = bins, weights=(1/R_simdata_356_FCCD0744)*np.ones_like(energy_MC_DLFi), label ='MC FCCD:0.74mm, DLF='+str(DLF)+' (scaled)', histtype = 'step', linewidth = '0.1')\n",
    "\n",
    "plt.xlabel(\"Energy [keV]\")\n",
    "plt.ylabel(\"Counts\")\n",
    "plt.xlim(0, 450)\n",
    "plt.yscale(\"log\")\n",
    "plt.legend(loc=\"lower left\")"
   ]
  },
  {
   "cell_type": "code",
   "execution_count": 18,
   "id": "experienced-lancaster",
   "metadata": {},
   "outputs": [
    {
     "data": {
      "application/vnd.jupyter.widget-view+json": {
       "model_id": "9cf70d3e0364420eb3868839a31e8dfe",
       "version_major": 2,
       "version_minor": 0
      },
      "text/plain": [
       "Canvas(toolbar=Toolbar(toolitems=[('Home', 'Reset original view', 'home', 'home'), ('Back', 'Back to previous …"
      ]
     },
     "metadata": {},
     "output_type": "display_data"
    },
    {
     "name": "stdout",
     "output_type": "stream",
     "text": [
      "2.0719888070911536\n"
     ]
    },
    {
     "name": "stderr",
     "output_type": "stream",
     "text": [
      "/home/extern/aalexander/miniconda3/lib/python3.7/site-packages/ipykernel_launcher.py:34: RuntimeWarning: More than 20 figures have been opened. Figures created through the pyplot interface (`matplotlib.pyplot.figure`) are retained until explicitly closed and may consume too much memory. (To control this warning, see the rcParam `figure.max_open_warning`).\n"
     ]
    },
    {
     "data": {
      "application/vnd.jupyter.widget-view+json": {
       "model_id": "396e1f596354483592db59cee9da2434",
       "version_major": 2,
       "version_minor": 0
      },
      "text/plain": [
       "Canvas(toolbar=Toolbar(toolitems=[('Home', 'Reset original view', 'home', 'home'), ('Back', 'Back to previous …"
      ]
     },
     "metadata": {},
     "output_type": "display_data"
    },
    {
     "name": "stdout",
     "output_type": "stream",
     "text": [
      "1.685379649151359\n"
     ]
    },
    {
     "data": {
      "application/vnd.jupyter.widget-view+json": {
       "model_id": "ee06261c5f6240698a45dbb461447079",
       "version_major": 2,
       "version_minor": 0
      },
      "text/plain": [
       "Canvas(toolbar=Toolbar(toolitems=[('Home', 'Reset original view', 'home', 'home'), ('Back', 'Back to previous …"
      ]
     },
     "metadata": {},
     "output_type": "display_data"
    },
    {
     "name": "stdout",
     "output_type": "stream",
     "text": [
      "1.685379649151359\n",
      "1.8783517994425867\n",
      "1.973098178394095\n",
      "2.0304665869897716\n",
      "2.0719888070911536\n"
     ]
    },
    {
     "data": {
      "text/plain": [
       "<matplotlib.legend.Legend at 0x7effb6e0ae50>"
      ]
     },
     "execution_count": 18,
     "metadata": {},
     "output_type": "execute_result"
    }
   ],
   "source": [
    "#Compare all DLFs, fast code, NEW simulation\n",
    "## with REFITed BEST FIT FCCD ON NEW SIMULATION\n",
    "# NO CUTS\n",
    "\n",
    "hdf5_path = \"/lfs/l1/legend/users/aalexander/hdf5_output/raw_MC_combined/processed/\"\n",
    "MC_file_id = \"IC160A-BA133-uncollimated-top-run0003-81z-newgeometry_g\"\n",
    "\n",
    "\n",
    "#______SCALED MC TO DLF 1_____\n",
    "fig, ax = plt.subplots()\n",
    "binwidth = 0.5\n",
    "bins = np.arange(0, 450, binwidth)\n",
    "plt.hist(energy_data, bins=bins,  label = \"Data\", histtype = 'step', linewidth = '0.2')\n",
    "with open('../detectors/I02160A/'+MC_file_id+'_FCCD0.71mm_DLF1.0_dlt_observables.json') as json_file:\n",
    "    dlt_observables = json.load(json_file)\n",
    "    R_simdata_356_FCCD071_DLF1 = dlt_observables['R_simdata_356_counts']\n",
    "    print(R_simdata_356_FCCD071_DLF1)\n",
    "DLF_list = [0.0, 0.25, 0.5, 0.75, 1.0]\n",
    "#DLF_list = [0.0]\n",
    "for DLF in DLF_list:\n",
    "    \n",
    "    DLFi = hdf5_path+\"processed_detector_\"+MC_file_id+\"_FCCD0.71mm_DLF\"+str(DLF)+\".hdf5\"\n",
    "    df_MC_DLFi =  pd.read_hdf(DLFi, key=\"procdf\")\n",
    "    energy_MC_DLFi = df_MC_DLFi['energy']#*1000\n",
    "    plt.hist(energy_MC_DLFi, bins = bins, weights=(1/R_simdata_356_FCCD071_DLF1)*np.ones_like(energy_MC_DLFi), label ='MC FCCD:0.71mm, DLF='+str(DLF)+' (scaled)', histtype = 'step', linewidth = '0.2')\n",
    "\n",
    "plt.xlabel(\"Energy [keV]\")\n",
    "plt.ylabel(\"Counts\")\n",
    "plt.xlim(0, 450)\n",
    "plt.yscale(\"log\")\n",
    "plt.legend(loc=\"lower left\")\n",
    "\n",
    "#______SCALED MC TO DLF 0_____\n",
    "fig, ax = plt.subplots()\n",
    "binwidth = 0.5\n",
    "bins = np.arange(0, 450, binwidth)\n",
    "\n",
    "plt.hist(energy_data, bins=bins,  label = \"Data\", histtype = 'step', linewidth = '0.2')\n",
    "\n",
    "with open('../detectors/I02160A/'+MC_file_id+'_FCCD0.71mm_DLF0.0_dlt_observables.json') as json_file:\n",
    "    dlt_observables = json.load(json_file)\n",
    "    R_simdata_356_FCCD071_DLF0 = dlt_observables['R_simdata_356_counts']\n",
    "    print(R_simdata_356_FCCD071_DLF0)\n",
    "    \n",
    "DLF_list = [0.0, 0.25, 0.5, 0.75, 1.0]\n",
    "#DLF_list = [0.0]\n",
    "for DLF in DLF_list:\n",
    "    \n",
    "    DLFi = hdf5_path+\"processed_detector_\"+MC_file_id+\"_FCCD0.71mm_DLF\"+str(DLF)+\".hdf5\"\n",
    "    df_MC_DLFi =  pd.read_hdf(DLFi, key=\"procdf\")\n",
    "    energy_MC_DLFi = df_MC_DLFi['energy']#*1000\n",
    "    plt.hist(energy_MC_DLFi, bins = bins, weights=(1/R_simdata_356_FCCD071_DLF0)*np.ones_like(energy_MC_DLFi), label ='MC FCCD:0.71mm, DLF='+str(DLF)+' (scaled)', histtype = 'step', linewidth = '0.2')\n",
    "\n",
    "plt.xlabel(\"Energy [keV]\")\n",
    "plt.ylabel(\"Counts\")\n",
    "plt.xlim(0, 450)\n",
    "plt.yscale(\"log\")\n",
    "plt.legend(loc=\"lower left\")\n",
    "\n",
    "\n",
    "#______SCALED MC TO EACH DLF_____\n",
    "fig, ax = plt.subplots()\n",
    "binwidth = 0.25\n",
    "bins = np.arange(0, 450, binwidth)\n",
    "\n",
    "plt.hist(energy_data, bins=bins,  label = \"Data\", histtype = 'step', linewidth = '0.2')\n",
    "    \n",
    "DLF_list = [0.0, 0.25, 0.5, 0.75, 1.0]\n",
    "#DLF_list = [0.0]\n",
    "for DLF in DLF_list:\n",
    "    \n",
    "    with open('../detectors/I02160A/'+MC_file_id+'_FCCD0.71mm_DLF'+str(DLF)+'_dlt_observables.json') as json_file:\n",
    "        dlt_observables = json.load(json_file)\n",
    "        R_simdata_356_FCCD071_DLFi = dlt_observables['R_simdata_356_counts']\n",
    "        print(R_simdata_356_FCCD071_DLFi)\n",
    "    \n",
    "    DLFi = hdf5_path+\"processed_detector_\"+MC_file_id+\"_FCCD0.71mm_DLF\"+str(DLF)+\".hdf5\"\n",
    "    df_MC_DLFi =  pd.read_hdf(DLFi, key=\"procdf\")\n",
    "    energy_MC_DLFi = df_MC_DLFi['energy']#*1000\n",
    "    plt.hist(energy_MC_DLFi, bins = bins, weights=(1/R_simdata_356_FCCD071_DLFi)*np.ones_like(energy_MC_DLFi), label ='MC FCCD:0.71mm, DLF='+str(DLF)+' (scaled)', histtype = 'step', linewidth = '0.2')\n",
    "\n",
    "plt.xlabel(\"Energy [keV]\")\n",
    "plt.ylabel(\"Counts\")\n",
    "plt.xlim(0, 450)\n",
    "plt.yscale(\"log\")\n",
    "plt.legend(loc=\"lower left\")\n"
   ]
  },
  {
   "cell_type": "code",
   "execution_count": 16,
   "id": "wrapped-spending",
   "metadata": {},
   "outputs": [
    {
     "data": {
      "application/vnd.jupyter.widget-view+json": {
       "model_id": "ee48450b15de490595214255628db590",
       "version_major": 2,
       "version_minor": 0
      },
      "text/plain": [
       "Canvas(toolbar=Toolbar(toolitems=[('Home', 'Reset original view', 'home', 'home'), ('Back', 'Back to previous …"
      ]
     },
     "metadata": {},
     "output_type": "display_data"
    },
    {
     "name": "stdout",
     "output_type": "stream",
     "text": [
      "2.8541815429064172\n"
     ]
    },
    {
     "data": {
      "application/vnd.jupyter.widget-view+json": {
       "model_id": "024330b6aeed441cbb3e7bd281f94950",
       "version_major": 2,
       "version_minor": 0
      },
      "text/plain": [
       "Canvas(toolbar=Toolbar(toolitems=[('Home', 'Reset original view', 'home', 'home'), ('Back', 'Back to previous …"
      ]
     },
     "metadata": {},
     "output_type": "display_data"
    },
    {
     "name": "stdout",
     "output_type": "stream",
     "text": [
      "2.3294857323648355\n"
     ]
    },
    {
     "data": {
      "application/vnd.jupyter.widget-view+json": {
       "model_id": "0a791940d4cb48439285c2f48833df47",
       "version_major": 2,
       "version_minor": 0
      },
      "text/plain": [
       "Canvas(toolbar=Toolbar(toolitems=[('Home', 'Reset original view', 'home', 'home'), ('Back', 'Back to previous …"
      ]
     },
     "metadata": {},
     "output_type": "display_data"
    },
    {
     "name": "stdout",
     "output_type": "stream",
     "text": [
      "2.3294857323648355\n",
      "2.589092605980488\n",
      "2.7184227195309436\n",
      "2.796496366885824\n",
      "2.8541815429064172\n"
     ]
    },
    {
     "data": {
      "text/plain": [
       "<matplotlib.legend.Legend at 0x7effb752f610>"
      ]
     },
     "execution_count": 16,
     "metadata": {},
     "output_type": "execute_result"
    }
   ],
   "source": [
    "#Compare all DLFs, fast code, NEW simulation\n",
    "## with REFITed BEST FIT FCCD ON NEW SIMULATION\n",
    "# CUTS\n",
    "\n",
    "hdf5_path = \"/lfs/l1/legend/users/aalexander/hdf5_output/raw_MC_combined/processed/\"\n",
    "MC_file_id = \"IC160A-BA133-uncollimated-top-run0003-81z-newgeometry_g\"\n",
    "\n",
    "\n",
    "#______SCALED MC TO DLF 1_____\n",
    "fig, ax = plt.subplots()\n",
    "binwidth = 0.15\n",
    "bins = np.arange(0, 450, binwidth)\n",
    "plt.hist(energy_data_cuts, bins=bins,  label = \"Data\", histtype = 'step', linewidth = '0.2')\n",
    "with open('../detectors/I02160A/'+MC_file_id+'_FCCD0.67mm_DLF1.0_dlt_observables_cuts.json') as json_file:\n",
    "    dlt_observables = json.load(json_file)\n",
    "    R_simdata_356_FCCD067_DLF1 = dlt_observables['R_simdata_356_counts']\n",
    "    print(R_simdata_356_FCCD067_DLF1)\n",
    "DLF_list = [0.0, 0.25, 0.5, 0.75, 1.0]\n",
    "#DLF_list = [0.0]\n",
    "for DLF in DLF_list:\n",
    "    \n",
    "    DLFi = hdf5_path+\"processed_detector_\"+MC_file_id+\"_FCCD0.67mm_DLF\"+str(DLF)+\".hdf5\"\n",
    "    df_MC_DLFi =  pd.read_hdf(DLFi, key=\"procdf\")\n",
    "    energy_MC_DLFi = df_MC_DLFi['energy']#*1000\n",
    "    plt.hist(energy_MC_DLFi, bins = bins, weights=(1/R_simdata_356_FCCD067_DLF1)*np.ones_like(energy_MC_DLFi), label ='MC FCCD:0.67mm, DLF='+str(DLF)+' (scaled)', histtype = 'step', linewidth = '0.2')\n",
    "\n",
    "plt.xlabel(\"Energy [keV]\")\n",
    "plt.ylabel(\"Counts\")\n",
    "plt.xlim(0, 450)\n",
    "plt.yscale(\"log\")\n",
    "plt.legend(loc=\"lower left\")\n",
    "\n",
    "#______SCALED MC TO DLF 0_____\n",
    "fig, ax = plt.subplots()\n",
    "binwidth = 0.15\n",
    "bins = np.arange(0, 450, binwidth)\n",
    "\n",
    "plt.hist(energy_data_cuts, bins=bins,  label = \"Data\", histtype = 'step', linewidth = '0.2')\n",
    "\n",
    "with open('../detectors/I02160A/'+MC_file_id+'_FCCD0.67mm_DLF0.0_dlt_observables_cuts.json') as json_file:\n",
    "    dlt_observables = json.load(json_file)\n",
    "    R_simdata_356_FCCD067_DLF0 = dlt_observables['R_simdata_356_counts']\n",
    "    print(R_simdata_356_FCCD067_DLF0)\n",
    "    \n",
    "DLF_list = [0.0, 0.25, 0.5, 0.75, 1.0]\n",
    "#DLF_list = [0.0]\n",
    "for DLF in DLF_list:\n",
    "    \n",
    "    DLFi = hdf5_path+\"processed_detector_\"+MC_file_id+\"_FCCD0.67mm_DLF\"+str(DLF)+\".hdf5\"\n",
    "    df_MC_DLFi =  pd.read_hdf(DLFi, key=\"procdf\")\n",
    "    energy_MC_DLFi = df_MC_DLFi['energy']#*1000\n",
    "    plt.hist(energy_MC_DLFi, bins = bins, weights=(1/R_simdata_356_FCCD067_DLF0)*np.ones_like(energy_MC_DLFi), label ='MC FCCD:0.67mm, DLF='+str(DLF)+' (scaled)', histtype = 'step', linewidth = '0.2')\n",
    "\n",
    "plt.xlabel(\"Energy [keV]\")\n",
    "plt.ylabel(\"Counts\")\n",
    "plt.xlim(0, 450)\n",
    "plt.yscale(\"log\")\n",
    "plt.legend(loc=\"lower left\")\n",
    "\n",
    "\n",
    "#______SCALED MC TO EACH DLF_____\n",
    "fig, ax = plt.subplots()\n",
    "binwidth = 0.15\n",
    "bins = np.arange(0, 450, binwidth)\n",
    "\n",
    "plt.hist(energy_data_cuts, bins=bins,  label = \"Data\", histtype = 'step', linewidth = '0.2')\n",
    "    \n",
    "DLF_list = [0.0, 0.25, 0.5, 0.75, 1.0]\n",
    "#DLF_list = [0.0]\n",
    "for DLF in DLF_list:\n",
    "    \n",
    "    with open('../detectors/I02160A/'+MC_file_id+'_FCCD0.67mm_DLF'+str(DLF)+'_dlt_observables_cuts.json') as json_file:\n",
    "        dlt_observables = json.load(json_file)\n",
    "        R_simdata_356_FCCD067_DLFi = dlt_observables['R_simdata_356_counts']\n",
    "        print(R_simdata_356_FCCD067_DLFi)\n",
    "    \n",
    "    DLFi = hdf5_path+\"processed_detector_\"+MC_file_id+\"_FCCD0.67mm_DLF\"+str(DLF)+\".hdf5\"\n",
    "    df_MC_DLFi =  pd.read_hdf(DLFi, key=\"procdf\")\n",
    "    energy_MC_DLFi = df_MC_DLFi['energy']#*1000\n",
    "    plt.hist(energy_MC_DLFi, bins = bins, weights=(1/R_simdata_356_FCCD067_DLFi)*np.ones_like(energy_MC_DLFi), label ='MC FCCD:0.67mm, DLF='+str(DLF)+' (scaled)', histtype = 'step', linewidth = '0.2')\n",
    "\n",
    "plt.xlabel(\"Energy [keV]\")\n",
    "plt.ylabel(\"Counts\")\n",
    "plt.xlim(0, 450)\n",
    "plt.yscale(\"log\")\n",
    "plt.legend(loc=\"lower left\")"
   ]
  },
  {
   "cell_type": "code",
   "execution_count": 20,
   "id": "declared-channels",
   "metadata": {},
   "outputs": [
    {
     "data": {
      "application/vnd.jupyter.widget-view+json": {
       "model_id": "459caa046f44477f885b0251c2e793d4",
       "version_major": 2,
       "version_minor": 0
      },
      "text/plain": [
       "Canvas(toolbar=Toolbar(toolitems=[('Home', 'Reset original view', 'home', 'home'), ('Back', 'Back to previous …"
      ]
     },
     "metadata": {},
     "output_type": "display_data"
    },
    {
     "data": {
      "text/plain": [
       "<matplotlib.legend.Legend at 0x7effb6d22790>"
      ]
     },
     "execution_count": 20,
     "metadata": {},
     "output_type": "execute_result"
    }
   ],
   "source": [
    "# check FCCD0 for new simulation\n",
    "\n",
    "\n",
    "def f_smear(x):\n",
    "    a=0.35 #0.27  #new values from ge-proc upgrades  #old value: 0.35\n",
    "    b=1.99e-3   #2.08e-3                                  #old value: 1.99e-3\n",
    "    return np.sqrt(a+b*x)\n",
    "\n",
    "\n",
    "MC_raw = \"/lfs/l1/legend/users/aalexander/hdf5_output/raw_MC_combined/raw-IC160A-BA133-uncollimated-top-run0003-81z-newgeometry.hdf5\"\n",
    "\n",
    "\n",
    "g4sdf = pd.read_hdf(MC_raw, key=\"procdf\")\n",
    "\n",
    "detector_hits = g4sdf.loc[(g4sdf.Edep>0)&(g4sdf.volID==1)]\n",
    "procdf = pd.DataFrame(detector_hits.groupby(['event','volID','iRep'], as_index=False)['Edep'].sum())\n",
    "procdf = procdf.rename(columns={'iRep':'detID', 'Edep':'energy'})\n",
    "procdf = procdf[procdf.energy!=0]    \n",
    "procdf['energy']=procdf['energy']*1000+(f_smear(procdf['energy']*1000))/2.355*np.random.randn(len(procdf['energy']))\n",
    "    \n",
    "energy_MC = procdf['energy']\n",
    "\n",
    "fig, ax = plt.subplots()\n",
    "binwidth = 0.15\n",
    "bins = np.arange(0, 450, binwidth)\n",
    "\n",
    "plt.hist(energy_data, bins=bins,  label = \"Data\", histtype = 'step', linewidth = '0.2')\n",
    "plt.hist(energy_MC, bins = bins, weights=(1/R_simdata_356_FCCD071_DLF1)*np.ones_like(energy_MC), label ='MC FCCD:0mm, (scaled)', histtype = 'step', linewidth = '0.2')\n",
    "\n",
    "plt.xlabel(\"Energy [keV]\")\n",
    "plt.ylabel(\"Counts\")\n",
    "plt.xlim(0, 450)\n",
    "plt.yscale(\"log\")\n",
    "plt.legend(loc=\"lower left\")\n",
    "\n",
    "\n"
   ]
  },
  {
   "cell_type": "code",
   "execution_count": 11,
   "id": "balanced-drill",
   "metadata": {},
   "outputs": [
    {
     "data": {
      "application/vnd.jupyter.widget-view+json": {
       "model_id": "086b9dff2c95469aaa9e719a08bcb237",
       "version_major": 2,
       "version_minor": 0
      },
      "text/plain": [
       "Canvas(toolbar=Toolbar(toolitems=[('Home', 'Reset original view', 'home', 'home'), ('Back', 'Back to previous …"
      ]
     },
     "metadata": {},
     "output_type": "display_data"
    },
    {
     "name": "stdout",
     "output_type": "stream",
     "text": [
      "file:  raw-IC160A-BA133-uncollimated-top-run0003-81z-newgeometry-01.hdf5\n",
      "          event  volID  detID    energy\n",
      "0             6      1      0  0.302851\n",
      "1            16      1      0  0.029979\n",
      "2            24      1      0  0.091357\n",
      "3            46      1      0  0.136133\n",
      "4            72      1      0  0.080998\n",
      "...         ...    ...    ...       ...\n",
      "673259  9999918      1      0  0.063974\n",
      "673260  9999922      1      0  0.356013\n",
      "673261  9999925      1      0  0.073279\n",
      "673262  9999974      1      0  0.074485\n",
      "673263  9999978      1      0  0.030622\n",
      "\n",
      "[673264 rows x 4 columns]\n",
      "file_no:  \n",
      "file:  raw-IC160A-BA133-uncollimated-top-run0003-81z-newgeometry-05.hdf5\n",
      "          event  volID  detID    energy\n",
      "0             2      1      0  0.032272\n",
      "1            14      1      0  0.080998\n",
      "2            16      1      0  0.062707\n",
      "3            24      1      0  0.029505\n",
      "4            48      1      0  0.030979\n",
      "...         ...    ...    ...       ...\n",
      "674433  9999893      1      0  0.045762\n",
      "674434  9999918      1      0  0.204291\n",
      "674435  9999919      1      0  0.437011\n",
      "674436  9999965      1      0  0.080998\n",
      "674437  9999978      1      0  0.073689\n",
      "\n",
      "[674438 rows x 4 columns]\n",
      "file_no:  \n",
      "file:  raw-IC160A-BA133-uncollimated-top-run0003-81z-newgeometry-09.hdf5\n",
      "          event  volID  detID    energy\n",
      "0             3      1      0  0.061748\n",
      "1            20      1      0  0.080998\n",
      "2            30      1      0  0.070244\n",
      "3            32      1      0  0.080998\n",
      "4            38      1      0  0.190894\n",
      "...         ...    ...    ...       ...\n",
      "673972  9999947      1      0  0.030622\n",
      "673973  9999964      1      0  0.080998\n",
      "673974  9999966      1      0  0.356013\n",
      "673975  9999986      1      0  0.356013\n",
      "673976  9999993      1      0  0.160597\n",
      "\n",
      "[673977 rows x 4 columns]\n",
      "file_no:  9\n",
      "file:  raw-IC160A-BA133-uncollimated-top-run0003-81z-newgeometry-08.hdf5\n",
      "          event  volID  detID    energy\n",
      "0            25      1      0  0.098164\n",
      "1            38      1      0  0.178733\n",
      "2            72      1      0  0.069093\n",
      "3            94      1      0  0.386992\n",
      "4           105      1      0  0.080998\n",
      "...         ...    ...    ...       ...\n",
      "674992  9999892      1      0  0.126601\n",
      "674993  9999918      1      0  0.051237\n",
      "674994  9999954      1      0  0.075501\n",
      "674995  9999985      1      0  0.302851\n",
      "674996  9999995      1      0  0.034994\n",
      "\n",
      "[674997 rows x 4 columns]\n",
      "file_no:  \n",
      "file:  raw-IC160A-BA133-uncollimated-top-run0003-81z-newgeometry-00.hdf5\n",
      "          event  volID  detID    energy\n",
      "0             8      1      0  0.030979\n",
      "1            33      1      0  0.356013\n",
      "2            37      1      0  0.080712\n",
      "3            50      1      0  0.356013\n",
      "4            52      1      0  0.034994\n",
      "...         ...    ...    ...       ...\n",
      "674164  9999939      1      0  0.080998\n",
      "674165  9999947      1      0  0.154143\n",
      "674166  9999954      1      0  0.030979\n",
      "674167  9999971      1      0  0.029105\n",
      "674168  9999980      1      0  0.030979\n",
      "\n",
      "[674169 rows x 4 columns]\n",
      "file_no:  \n",
      "file:  raw-IC160A-BA133-uncollimated-top-run0003-81z-newgeometry-04.hdf5\n",
      "          event  volID  detID    energy\n",
      "0             1      1      0  0.356013\n",
      "1            16      1      0  0.080998\n",
      "2            33      1      0  0.029658\n",
      "3            52      1      0  0.183850\n",
      "4            58      1      0  0.437011\n",
      "...         ...    ...    ...       ...\n",
      "674499  9999938      1      0  0.356013\n",
      "674500  9999962      1      0  0.030979\n",
      "674501  9999971      1      0  0.079614\n",
      "674502  9999990      1      0  0.079614\n",
      "674503  9999999      1      0  0.028591\n",
      "\n",
      "[674504 rows x 4 columns]\n",
      "file_no:  4\n",
      "file:  raw-IC160A-BA133-uncollimated-top-run0003-81z-newgeometry-02.hdf5\n",
      "          event  volID  detID    energy\n",
      "0             1      1      0  0.066517\n",
      "1            26      1      0  0.202176\n",
      "2            31      1      0  0.108812\n",
      "3            42      1      0  0.058013\n",
      "4            61      1      0  0.080998\n",
      "...         ...    ...    ...       ...\n",
      "674890  9999916      1      0  0.159744\n",
      "674891  9999925      1      0  0.356013\n",
      "674892  9999939      1      0  0.080998\n",
      "674893  9999940      1      0  0.080998\n",
      "674894  9999988      1      0  0.080998\n",
      "\n",
      "[674895 rows x 4 columns]\n",
      "file_no:  2\n",
      "file:  raw-IC160A-BA133-uncollimated-top-run0003-81z-newgeometry-06.hdf5\n",
      "          event  volID  detID    energy\n",
      "0             5      1      0  0.030979\n",
      "1            25      1      0  0.356013\n",
      "2            54      1      0  0.345415\n",
      "3            66      1      0  0.029762\n",
      "4            85      1      0  0.053162\n",
      "...         ...    ...    ...       ...\n",
      "675564  9999894      1      0  0.080998\n",
      "675565  9999914      1      0  0.030979\n",
      "675566  9999920      1      0  0.030979\n",
      "675567  9999937      1      0  0.356013\n",
      "675568  9999942      1      0  0.030979\n",
      "\n",
      "[675569 rows x 4 columns]\n",
      "file_no:  \n",
      "file:  raw-IC160A-BA133-uncollimated-top-run0003-81z-newgeometry-03.hdf5\n",
      "          event  volID  detID    energy\n",
      "0             9      1      0  0.356013\n",
      "1            12      1      0  0.080998\n",
      "2            31      1      0  0.276399\n",
      "3            57      1      0  0.218065\n",
      "4            63      1      0  0.356013\n",
      "...         ...    ...    ...       ...\n",
      "674356  9999911      1      0  0.356013\n",
      "674357  9999930      1      0  0.080998\n",
      "674358  9999958      1      0  0.107172\n",
      "674359  9999987      1      0  0.267571\n",
      "674360  9999998      1      0  0.302851\n",
      "\n",
      "[674361 rows x 4 columns]\n",
      "file_no:  \n",
      "file:  raw-IC160A-BA133-uncollimated-top-run0003-81z-newgeometry-07.hdf5\n",
      "          event  volID  detID    energy\n",
      "0             2      1      0  0.356013\n",
      "1            34      1      0  0.070497\n",
      "2            45      1      0  0.112768\n",
      "3            54      1      0  0.184939\n",
      "4            75      1      0  0.356013\n",
      "...         ...    ...    ...       ...\n",
      "673589  9999972      1      0  0.184378\n",
      "673590  9999983      1      0  0.080998\n",
      "673591  9999987      1      0  0.030622\n",
      "673592  9999991      1      0  0.009047\n",
      "673593  9999999      1      0  0.383849\n",
      "\n",
      "[673594 rows x 4 columns]\n",
      "file_no:  7\n"
     ]
    },
    {
     "data": {
      "text/plain": [
       "<matplotlib.legend.Legend at 0x7f8b45ba0e90>"
      ]
     },
     "execution_count": 11,
     "metadata": {},
     "output_type": "execute_result"
    }
   ],
   "source": [
    "#Compare each individual raw MC file for raw-IC160A-BA133-uncollimated-top-run0003-81z-newgeometry.hdf5\"\n",
    "#results - they are the same, error must lie in combine_simulations.py\n",
    "\n",
    "MC_dir = \"/lfs/l1/legend/detector_char/enr/hades/simulations/legend-g4simple-simulation/IC-legend/IC160A/Ba133/uncollimated/top/\"\n",
    "MC_id = \"raw-IC160A-BA133-uncollimated-top-run0003-81z-newgeometry\"\n",
    "\n",
    "\n",
    "fig, ax = plt.subplots()\n",
    "binwidth = 0.15\n",
    "bins = np.arange(0, 450, binwidth)\n",
    "#plt.hist(energy_data, bins=bins,  label = \"Data\", histtype = 'step', linewidth = '0.2')\n",
    "\n",
    "#read in each hdf5 file\n",
    "files = os.listdir(MC_dir)\n",
    "files = fnmatch.filter(files, \"*.hdf5\")\n",
    "for index, file_name in enumerate(files):\n",
    "\n",
    "    print(\"file: \", str(file_name))\n",
    "    g4sfile = h5py.File(MC_dir+file_name, 'r')\n",
    "    g4sntuple = g4sfile['default_ntuples']['g4sntuple']\n",
    "    g4sdf = pd.DataFrame(np.array(g4sntuple), columns=['event'])\n",
    "\n",
    "    # # build a pandas DataFrame from the hdf5 datasets we will use\n",
    "    g4sdf = pd.DataFrame(np.array(g4sntuple['event']['pages']), columns=['event'])\n",
    "    g4sdf = g4sdf.join(pd.DataFrame(np.array(g4sntuple['step']['pages']), columns=['step']),lsuffix = '_caller', rsuffix = '_other')\n",
    "    g4sdf = g4sdf.join(pd.DataFrame(np.array(g4sntuple['Edep']['pages']), columns=['Edep']),lsuffix = '_caller', rsuffix = '_other')\n",
    "    g4sdf = g4sdf.join(pd.DataFrame(np.array(g4sntuple['volID']['pages']),columns=['volID']), lsuffix = '_caller', rsuffix = '_other')\n",
    "    g4sdf = g4sdf.join(pd.DataFrame(np.array(g4sntuple['iRep']['pages']),columns=['iRep']), lsuffix = '_caller', rsuffix = '_other')\n",
    "    g4sdf = g4sdf.join(pd.DataFrame(np.array(g4sntuple['x']['pages']),columns=['x']), lsuffix = '_caller', rsuffix = '_other')\n",
    "    g4sdf = g4sdf.join(pd.DataFrame(np.array(g4sntuple['y']['pages']),columns=['y']), lsuffix = '_caller', rsuffix = '_other')\n",
    "    g4sdf = g4sdf.join(pd.DataFrame(np.array(g4sntuple['z']['pages']),columns=['z']), lsuffix = '_caller', rsuffix = '_other')\n",
    "\n",
    "    \n",
    "    detector_hits = g4sdf.loc[(g4sdf.Edep>0)&(g4sdf.volID==1)]\n",
    "    procdf = pd.DataFrame(detector_hits.groupby(['event','volID','iRep'], as_index=False)['Edep'].sum())\n",
    "    procdf = procdf.rename(columns={'iRep':'detID', 'Edep':'energy'})\n",
    "    procdf = procdf[procdf.energy!=0] \n",
    "    \n",
    "    print(procdf)\n",
    "    \n",
    "    energy_MC = (procdf[\"energy\"])*1000\n",
    "    \n",
    "    file_no = file_name.strip(MC_id)\n",
    "    file_no = file_no.strip(\".hdf5\")\n",
    "    print(\"file_no: \", file_no)\n",
    "    plt.hist(energy_MC, bins = bins, label ='file '+file_no, histtype = 'step', linewidth = '0.2')\n",
    "\n",
    "\n",
    "plt.xlabel(\"Energy [keV]\")\n",
    "plt.ylabel(\"Counts\")\n",
    "plt.xlim(0, 450)\n",
    "plt.yscale(\"log\")\n",
    "plt.legend(loc=\"lower left\")\n"
   ]
  },
  {
   "cell_type": "code",
   "execution_count": null,
   "id": "recovered-greenhouse",
   "metadata": {},
   "outputs": [],
   "source": []
  }
 ],
 "metadata": {
  "kernelspec": {
   "display_name": "Python 3",
   "language": "python",
   "name": "python3"
  },
  "language_info": {
   "codemirror_mode": {
    "name": "ipython",
    "version": 3
   },
   "file_extension": ".py",
   "mimetype": "text/x-python",
   "name": "python",
   "nbconvert_exporter": "python",
   "pygments_lexer": "ipython3",
   "version": "3.7.6"
  }
 },
 "nbformat": 4,
 "nbformat_minor": 5
}
