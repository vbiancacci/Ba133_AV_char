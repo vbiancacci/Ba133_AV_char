{
 "cells": [
  {
   "cell_type": "markdown",
   "id": "promising-floor",
   "metadata": {},
   "source": [
    "## drawPostProc\n",
    "### Quick script to test and plot individual FCCD post procs"
   ]
  },
  {
   "cell_type": "code",
   "execution_count": 2,
   "id": "packed-celebrity",
   "metadata": {},
   "outputs": [],
   "source": [
    "import sys\n",
    "import pandas as pd\n",
    "import numpy as np\n",
    "import matplotlib.pyplot as plt\n",
    "from datetime import datetime\n",
    "import json\n",
    "%matplotlib widget"
   ]
  },
  {
   "cell_type": "code",
   "execution_count": 3,
   "id": "collaborative-desire",
   "metadata": {},
   "outputs": [
    {
     "data": {
      "application/vnd.jupyter.widget-view+json": {
       "model_id": "b33ca5d2fb8c4b5f813b34eead506b69",
       "version_major": 2,
       "version_minor": 0
      },
      "text/plain": [
       "Canvas(toolbar=Toolbar(toolitems=[('Home', 'Reset original view', 'home', 'home'), ('Back', 'Back to previous …"
      ]
     },
     "metadata": {},
     "output_type": "display_data"
    },
    {
     "data": {
      "text/plain": [
       "<matplotlib.legend.Legend at 0x7fc5cd00ee90>"
      ]
     },
     "execution_count": 3,
     "metadata": {},
     "output_type": "execute_result"
    }
   ],
   "source": [
    "#Here I just wanted to check the output of analysis_DL_top.py worked as expected for TL implementation\n",
    "# graph looks good!\n",
    "\n",
    "\n",
    "hdf5_path = \"/lfs/l1/legend/users/aalexander/hdf5_output/processed/\"\n",
    "\n",
    "DLF100 =  hdf5_path+\"processed_detector_IC160A_ba_top_81mmNEW8_01_newresolution_FCCD0.744mm.hdf5\"\n",
    "DLF50 = hdf5_path+\"valentina_script/processed_detector_IC160A_ba_top_81mmNEW8_01_g_FCCD0.74mm_DLF0.5.hdf5\"\n",
    "DLF50_fast = hdf5_path+\"valentina_script/processed_detector_IC160A_ba_top_81mmNEW8_01_g_FCCD0.74mm_DLF0.5_fast.hdf5\"\n",
    "\n",
    "\n",
    "df_MC_DLF100 =  pd.read_hdf(DLF100, key=\"procdf\")\n",
    "energy_MC_DLF100 = df_MC_DLF100['energy']*1000\n",
    "\n",
    "df_MC_DLF50 =  pd.read_hdf(DLF50, key=\"procdf\")\n",
    "energy_MC_DLF50 = df_MC_DLF50['energy']#*1000\n",
    "\n",
    "df_MC_DLF50_fast =  pd.read_hdf(DLF50_fast, key=\"procdf\")\n",
    "energy_MC_DLF50_fast = df_MC_DLF50_fast['energy']#*1000\n",
    "\n",
    "fig, ax = plt.subplots()\n",
    "binwidth = 0.15\n",
    "bins = np.arange(0, 450, binwidth)\n",
    "plt.hist(energy_MC_DLF100, bins = bins, label ='MC FCCD:0.74mm, DLF=1', histtype = 'step', linewidth = '0.35')\n",
    "plt.hist(energy_MC_DLF50, bins = bins, label ='MC FCCD:0.74mm, DLF=0.5', histtype = 'step', linewidth = '0.35')\n",
    "plt.hist(energy_MC_DLF50_fast, bins = bins, label ='MC FCCD:0.74mm, DLF=0.5 FASt', histtype = 'step', linewidth = '0.35')\n",
    "plt.xlabel(\"Energy [keV]\")\n",
    "plt.ylabel(\"Counts\")\n",
    "plt.xlim(0, 450)\n",
    "plt.yscale(\"log\")\n",
    "plt.legend()\n",
    "\n",
    "\n"
   ]
  },
  {
   "cell_type": "code",
   "execution_count": null,
   "id": "piano-football",
   "metadata": {},
   "outputs": [],
   "source": []
  }
 ],
 "metadata": {
  "kernelspec": {
   "display_name": "Python 3",
   "language": "python",
   "name": "python3"
  },
  "language_info": {
   "codemirror_mode": {
    "name": "ipython",
    "version": 3
   },
   "file_extension": ".py",
   "mimetype": "text/x-python",
   "name": "python",
   "nbconvert_exporter": "python",
   "pygments_lexer": "ipython3",
   "version": "3.7.6"
  }
 },
 "nbformat": 4,
 "nbformat_minor": 5
}
