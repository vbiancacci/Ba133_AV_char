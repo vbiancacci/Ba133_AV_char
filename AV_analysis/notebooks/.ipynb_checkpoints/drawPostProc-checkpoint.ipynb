{
 "cells": [
  {
   "cell_type": "markdown",
   "id": "promising-floor",
   "metadata": {},
   "source": [
    "## drawPostProc\n",
    "### Quick script to test and plot individual FCCD post procs"
   ]
  },
  {
   "cell_type": "code",
   "execution_count": 1,
   "id": "packed-celebrity",
   "metadata": {},
   "outputs": [],
   "source": [
    "import sys\n",
    "import pandas as pd\n",
    "import numpy as np\n",
    "import matplotlib.pyplot as plt\n",
    "from datetime import datetime\n",
    "import json\n",
    "%matplotlib widget"
   ]
  },
  {
   "cell_type": "code",
   "execution_count": 2,
   "id": "collaborative-desire",
   "metadata": {},
   "outputs": [
    {
     "data": {
      "application/vnd.jupyter.widget-view+json": {
       "model_id": "335448419291430a9a56f111046caba3",
       "version_major": 2,
       "version_minor": 0
      },
      "text/plain": [
       "Canvas(toolbar=Toolbar(toolitems=[('Home', 'Reset original view', 'home', 'home'), ('Back', 'Back to previous …"
      ]
     },
     "metadata": {},
     "output_type": "display_data"
    },
    {
     "data": {
      "text/plain": [
       "<matplotlib.legend.Legend at 0x7f3d78b25110>"
      ]
     },
     "execution_count": 2,
     "metadata": {},
     "output_type": "execute_result"
    }
   ],
   "source": [
    "#Here I just wanted to check the output of analysis_DL_top.py worked as expected for TL implementation\n",
    "#Compare \"fast\" code with normal\n",
    "\n",
    "\n",
    "hdf5_path = \"/lfs/l1/legend/users/aalexander/hdf5_output/processed/\"\n",
    "\n",
    "DLF100 =  hdf5_path+\"processed_detector_IC160A_ba_top_81mmNEW8_01_newresolution_FCCD0.744mm.hdf5\"\n",
    "DLF50 = hdf5_path+\"valentina_script/processed_detector_IC160A_ba_top_81mmNEW8_01_g_FCCD0.74mm_DLF0.5.hdf5\"\n",
    "DLF50_fast = hdf5_path+\"valentina_script/processed_detector_IC160A_ba_top_81mmNEW8_01_g_FCCD0.74mm_DLF0.5_fast.hdf5\"\n",
    "\n",
    "\n",
    "df_MC_DLF100 =  pd.read_hdf(DLF100, key=\"procdf\")\n",
    "energy_MC_DLF100 = df_MC_DLF100['energy']*1000\n",
    "\n",
    "df_MC_DLF50 =  pd.read_hdf(DLF50, key=\"procdf\")\n",
    "energy_MC_DLF50 = df_MC_DLF50['energy']#*1000\n",
    "\n",
    "df_MC_DLF50_fast =  pd.read_hdf(DLF50_fast, key=\"procdf\")\n",
    "energy_MC_DLF50_fast = df_MC_DLF50_fast['energy']#*1000\n",
    "\n",
    "fig, ax = plt.subplots()\n",
    "binwidth = 0.15\n",
    "bins = np.arange(0, 450, binwidth)\n",
    "plt.hist(energy_MC_DLF100, bins = bins, label ='MC FCCD:0.74mm, DLF=1', histtype = 'step', linewidth = '0.35')\n",
    "plt.hist(energy_MC_DLF50, bins = bins, label ='MC FCCD:0.74mm, DLF=0.5', histtype = 'step', linewidth = '0.35')\n",
    "plt.hist(energy_MC_DLF50_fast, bins = bins, label ='MC FCCD:0.74mm, DLF=0.5 FASt', histtype = 'step', linewidth = '0.35')\n",
    "plt.xlabel(\"Energy [keV]\")\n",
    "plt.ylabel(\"Counts\")\n",
    "plt.xlim(0, 450)\n",
    "plt.yscale(\"log\")\n",
    "plt.legend()\n",
    "\n",
    "\n"
   ]
  },
  {
   "cell_type": "code",
   "execution_count": 3,
   "id": "postal-newton",
   "metadata": {},
   "outputs": [
    {
     "name": "stdout",
     "output_type": "stream",
     "text": [
      "Warning: pygama.io.lh5 is deprecated and will be removed in a future release. Instead import pygama.lh5.\n",
      "3.1255920187062203\n"
     ]
    }
   ],
   "source": [
    "#load data\n",
    "\n",
    "sys.path.append('../../data/')\n",
    "from Ba133_data_AV_analysis import * \n",
    "\n",
    "#load data, cuts and calibration\n",
    "data_path = \"/lfs/l1/legend/detector_char/enr/hades/char_data/I02160A/tier2/ba_HS4_top_dlt/pygama/v00.00/\"\n",
    "with open(\"../../data/detectors/I02160A/calibration_coef.json\") as json_file:\n",
    "    calibration_coefs = json.load(json_file)\n",
    "    m = calibration_coefs['m']\n",
    "    m_err = calibration_coefs['m_err']\n",
    "    c = calibration_coefs['c']\n",
    "    c_err = calibration_coefs['c_err']\n",
    "    \n",
    "df_data = read_all_dsp_h5(data_path, cuts=False)\n",
    "e_ftp_data = df_data['e_ftp']\n",
    "energy_data = (e_ftp_data-c)/m\n",
    "\n",
    "#for scaling MC\n",
    "with open('../detectors/I02160A/IC160A_ba_top_81mmNEW8_01_newresolution_FCCD0.744mm_dlt_observables.json') as json_file:\n",
    "    dlt_observables = json.load(json_file)\n",
    "    R_simdata_356_FCCD0744 = dlt_observables['R_simdata_356_counts']\n",
    "    print(R_simdata_356_FCCD0744)"
   ]
  },
  {
   "cell_type": "code",
   "execution_count": 7,
   "id": "piano-football",
   "metadata": {},
   "outputs": [
    {
     "data": {
      "application/vnd.jupyter.widget-view+json": {
       "model_id": "0e1ea1383dc44914b5aa8d595018b0ca",
       "version_major": 2,
       "version_minor": 0
      },
      "text/plain": [
       "Canvas(toolbar=Toolbar(toolitems=[('Home', 'Reset original view', 'home', 'home'), ('Back', 'Back to previous …"
      ]
     },
     "metadata": {},
     "output_type": "display_data"
    },
    {
     "data": {
      "text/plain": [
       "<matplotlib.legend.Legend at 0x7f3d78554450>"
      ]
     },
     "execution_count": 7,
     "metadata": {},
     "output_type": "execute_result"
    }
   ],
   "source": [
    "#compare slow and fast codes - they give the same output\n",
    "\n",
    "hdf5_path = \"/lfs/l1/legend/users/aalexander/hdf5_output/processed/\"\n",
    "\n",
    "fig, ax = plt.subplots()\n",
    "binwidth = 0.15\n",
    "bins = np.arange(0, 450, binwidth)\n",
    "\n",
    "plt.hist(energy_data, bins=bins,  label = \"Data\", histtype = 'step', linewidth = '0.1')\n",
    "\n",
    "DLF_list = [0.0, 0.5, 1.0]\n",
    "for DLF in DLF_list:\n",
    "    \n",
    "    DLFi = hdf5_path+\"valentina_script/processed_detector_IC160A_ba_top_81mmNEW8_01_g_FCCD0.74mm_DLF\"+str(DLF)+\"_fast.hdf5\"\n",
    "    df_MC_DLFi =  pd.read_hdf(DLFi, key=\"procdf\")\n",
    "    energy_MC_DLFi = df_MC_DLFi['energy']#*1000\n",
    "    plt.hist(energy_MC_DLFi, bins = bins, weights=(1/R_simdata_356_FCCD0744)*np.ones_like(energy_MC_DLFi), label ='MC FCCD:0.74mm, DLF='+str(DLF)+' (scaled)', histtype = 'step', linewidth = '0.1')\n",
    "    \n",
    "    \n",
    "    #compare with \"slow\" - THEY GIVE THE SAME OUTPUT!\n",
    "    DLFi = hdf5_path+\"valentina_script/processed_detector_IC160A_ba_top_81mmNEW8_01_g_FCCD0.74mm_DLF\"+str(DLF)+\".hdf5\"\n",
    "    df_MC_DLFi =  pd.read_hdf(DLFi, key=\"procdf\")\n",
    "    energy_MC_DLFi = df_MC_DLFi['energy']#*1000\n",
    "    plt.hist(energy_MC_DLFi, bins = bins, weights=(1/R_simdata_356_FCCD0744)*np.ones_like(energy_MC_DLFi), label ='MC FCCD:0.74mm, DLF='+str(DLF)+' (scaled, SLOW)', histtype = 'step', linewidth = '0.1')\n",
    "    \n",
    "  \n",
    "plt.xlabel(\"Energy [keV]\")\n",
    "plt.ylabel(\"Counts\")\n",
    "plt.xlim(0, 450)\n",
    "plt.yscale(\"log\")\n",
    "plt.legend(loc=\"lower left\")\n",
    "    \n",
    "    \n",
    "    \n",
    "    \n",
    "    \n",
    "    \n",
    "    \n",
    "    "
   ]
  },
  {
   "cell_type": "code",
   "execution_count": 9,
   "id": "inclusive-musical",
   "metadata": {},
   "outputs": [
    {
     "data": {
      "application/vnd.jupyter.widget-view+json": {
       "model_id": "0aa01833af9242efa23d998ec325a251",
       "version_major": 2,
       "version_minor": 0
      },
      "text/plain": [
       "Canvas(toolbar=Toolbar(toolitems=[('Home', 'Reset original view', 'home', 'home'), ('Back', 'Back to previous …"
      ]
     },
     "metadata": {},
     "output_type": "display_data"
    },
    {
     "data": {
      "text/plain": [
       "<matplotlib.legend.Legend at 0x7f3cb3be1a50>"
      ]
     },
     "execution_count": 9,
     "metadata": {},
     "output_type": "execute_result"
    }
   ],
   "source": [
    "#Compare all DLFs, fast code, old simulation\n",
    "\n",
    "hdf5_path = \"/lfs/l1/legend/users/aalexander/hdf5_output/processed/\"\n",
    "\n",
    "fig, ax = plt.subplots()\n",
    "binwidth = 0.15\n",
    "bins = np.arange(0, 450, binwidth)\n",
    "\n",
    "plt.hist(energy_data, bins=bins,  label = \"Data\", histtype = 'step', linewidth = '0.1')\n",
    "\n",
    "DLF_list = [0.0, 0.25, 0.5, 0.75, 1.0]\n",
    "\n",
    "for DLF in DLF_list:\n",
    "    \n",
    "    DLFi = hdf5_path+\"valentina_script/processed_detector_IC160A_ba_top_81mmNEW8_01_g_FCCD0.74mm_DLF\"+str(DLF)+\"_fast.hdf5\"\n",
    "    df_MC_DLFi =  pd.read_hdf(DLFi, key=\"procdf\")\n",
    "    energy_MC_DLFi = df_MC_DLFi['energy']#*1000\n",
    "    plt.hist(energy_MC_DLFi, bins = bins, weights=(1/R_simdata_356_FCCD0744)*np.ones_like(energy_MC_DLFi), label ='MC FCCD:0.74mm, DLF='+str(DLF)+' (scaled)', histtype = 'step', linewidth = '0.1')\n",
    "\n",
    "plt.xlabel(\"Energy [keV]\")\n",
    "plt.ylabel(\"Counts\")\n",
    "plt.xlim(0, 450)\n",
    "plt.yscale(\"log\")\n",
    "plt.legend(loc=\"lower left\")"
   ]
  },
  {
   "cell_type": "code",
   "execution_count": 12,
   "id": "portuguese-kelly",
   "metadata": {},
   "outputs": [
    {
     "data": {
      "application/vnd.jupyter.widget-view+json": {
       "model_id": "581bedab0560457ba28def5fab9520c1",
       "version_major": 2,
       "version_minor": 0
      },
      "text/plain": [
       "Canvas(toolbar=Toolbar(toolitems=[('Home', 'Reset original view', 'home', 'home'), ('Back', 'Back to previous …"
      ]
     },
     "metadata": {},
     "output_type": "display_data"
    },
    {
     "data": {
      "text/plain": [
       "<matplotlib.legend.Legend at 0x7f3d7713d310>"
      ]
     },
     "execution_count": 12,
     "metadata": {},
     "output_type": "execute_result"
    }
   ],
   "source": [
    "#Compare all DLFs, fast code, NEW simulation\n",
    "## NEED TO REFIT BEST FIT FCCD ON NEW SIMULATION, AND FIND NEW SCALING FACTOR\n",
    "\n",
    "hdf5_path = \"/lfs/l1/legend/users/aalexander/hdf5_output/raw_MC_combined/processed/\"\n",
    "MC_file_id = \"IC160A-BA133-uncollimated-top-run0003-81z-newgeometry\"\n",
    "\n",
    "fig, ax = plt.subplots()\n",
    "binwidth = 0.15\n",
    "bins = np.arange(0, 450, binwidth)\n",
    "\n",
    "plt.hist(energy_data, bins=bins,  label = \"Data\", histtype = 'step', linewidth = '0.1')\n",
    "\n",
    "DLF_list = [0.0, 0.25, 0.5, 0.75, 1.0]\n",
    "DLF_list = [0.0]\n",
    "for DLF in DLF_list:\n",
    "    \n",
    "    DLFi = hdf5_path+\"processed_detector_\"+MC_file_id+\"_g_FCCD0.74mm_DLF\"+str(DLF)+\".hdf5\"\n",
    "    df_MC_DLFi =  pd.read_hdf(DLFi, key=\"procdf\")\n",
    "    energy_MC_DLFi = df_MC_DLFi['energy']#*1000\n",
    "    plt.hist(energy_MC_DLFi, bins = bins, weights=(1/R_simdata_356_FCCD0744)*np.ones_like(energy_MC_DLFi), label ='MC FCCD:0.74mm, DLF='+str(DLF)+' (scaled)', histtype = 'step', linewidth = '0.1')\n",
    "\n",
    "plt.xlabel(\"Energy [keV]\")\n",
    "plt.ylabel(\"Counts\")\n",
    "plt.xlim(0, 450)\n",
    "plt.yscale(\"log\")\n",
    "plt.legend(loc=\"lower left\")"
   ]
  },
  {
   "cell_type": "code",
   "execution_count": null,
   "id": "single-newman",
   "metadata": {},
   "outputs": [],
   "source": []
  }
 ],
 "metadata": {
  "kernelspec": {
   "display_name": "Python 3",
   "language": "python",
   "name": "python3"
  },
  "language_info": {
   "codemirror_mode": {
    "name": "ipython",
    "version": 3
   },
   "file_extension": ".py",
   "mimetype": "text/x-python",
   "name": "python",
   "nbconvert_exporter": "python",
   "pygments_lexer": "ipython3",
   "version": "3.7.6"
  }
 },
 "nbformat": 4,
 "nbformat_minor": 5
}
