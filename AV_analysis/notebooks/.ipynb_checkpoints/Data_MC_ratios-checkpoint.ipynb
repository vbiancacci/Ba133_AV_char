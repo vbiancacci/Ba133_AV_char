{
 "cells": [
  {
   "cell_type": "code",
   "execution_count": 1,
   "id": "packed-celebrity",
   "metadata": {},
   "outputs": [],
   "source": [
    "import sys\n",
    "import pandas as pd\n",
    "import numpy as np\n",
    "import matplotlib.pyplot as plt\n",
    "from datetime import datetime\n",
    "import json\n",
    "%matplotlib widget"
   ]
  },
  {
   "cell_type": "code",
   "execution_count": null,
   "id": "collaborative-desire",
   "metadata": {},
   "outputs": [],
   "source": [
    "## Plot spectra for both\n",
    " ## WORK IN PROGRESS\n",
    "sys.path.append('../../data/')\n",
    "from Ba133_data_AV_analysis import * \n",
    "\n",
    "#load data, cuts and calibration\n",
    "data_path = \"/lfs/l1/legend/detector_char/enr/hades/char_data/I02160A/tier2/ba_HS4_top_dlt/pygama/v00.00/\"\n",
    "with open(\"../../data/detectors/I02160A/calibration_coef.json\") as json_file:\n",
    "    calibration_coefs = json.load(json_file)\n",
    "    m = calibration_coefs['m']\n",
    "    m_err = calibration_coefs['m_err']\n",
    "    c = calibration_coefs['c']\n",
    "    c_err = calibration_coefs['c_err']\n",
    "\n",
    "df_data = read_all_dsp_h5(data_path, cuts=False)\n",
    "e_ftp_data = df_data['e_ftp']\n",
    "energy_data = (e_ftp_data-c)/m\n",
    "\n",
    "passed_cuts = json.load(open('../../data/detectors/I02160A/passed_cuts_data.json','r')) #passed cutstput/processed/\" \n",
    "df_data_cuts = read_all_dsp_h5(data_path, cuts=True, passed_cuts=passed_cuts)\n",
    "e_ftp_data_cuts = df_data_cuts['e_ftp']\n",
    "energy_data_cuts = (e_ftp_data_cuts-c)/m\n",
    "\n",
    "#load MC\n",
    "MC_path = \"/lfs/l1/legend/users/aalexander/hdf5_output/processed/\"\n",
    "df_MC_FCCD0744 =  pd.read_hdf(MC_path+\"_FCCD0.744mm.hdf\", key=\"procdf\")\n",
    "energy_MC_FCCD0744 = df_MC_FCCD0744['energy']\n",
    "df_MC_FCCD0698 =  pd.read_hdf(MC_file, key=\"procdf\")\n",
    "energy_MC_FCCD0744 = df_MC_FCCD0744['energy']\n"
   ]
  },
  {
   "cell_type": "code",
   "execution_count": 4,
   "id": "inner-focus",
   "metadata": {},
   "outputs": [
    {
     "name": "stdout",
     "output_type": "stream",
     "text": [
      "3.1255920187062203\n",
      "4.326534799842924\n"
     ]
    },
    {
     "data": {
      "application/vnd.jupyter.widget-view+json": {
       "model_id": "b3dd63cd6f184e1d8ee6d6207a5bcbbe",
       "version_major": 2,
       "version_minor": 0
      },
      "text/plain": [
       "Canvas(toolbar=Toolbar(toolitems=[('Home', 'Reset original view', 'home', 'home'), ('Back', 'Back to previous …"
      ]
     },
     "metadata": {},
     "output_type": "display_data"
    }
   ],
   "source": [
    "## Calculate absolute data/MC\n",
    "\n",
    "#read in csv files\n",
    "data_MC_ratios = \"../detectors/I02160A/IC160A_ba_top_81mmNEW8_01_newresolution_FCCD0.744mm_DataMCRatios.csv\"\n",
    "data_MC_ratios_cuts = \"../detectors/I02160A/IC160A_ba_top_81mmNEW8_01_newresolution_FCCD0.698mm_DataMCRatios_cuts.csv\"\n",
    "\n",
    "\n",
    "with open('../detectors/I02160A/IC160A_ba_top_81mmNEW8_01_newresolution_FCCD0.744mm_dlt_observables.json') as json_file:\n",
    "    dlt_observables = json.load(json_file)\n",
    "    R_simdata_356_FCCD0744 = dlt_observables['R_simdata_356_counts']\n",
    "    print(R_simdata_356_FCCD0744)\n",
    "        \n",
    "with open('../detectors/I02160A/IC160A_ba_top_81mmNEW8_01_newresolution_FCCD0.698mm_dlt_observables_cuts.json') as json_file:\n",
    "    dlt_observables = json.load(json_file)\n",
    "    R_simdata_356_FCCD0698 = dlt_observables['R_simdata_356_counts']\n",
    "    print(R_simdata_356_FCCD0698)\n",
    "\n",
    "\n",
    "ratios_df = pd.read_csv(data_MC_ratios)\n",
    "ratios = ratios_df['ratio']\n",
    "ratios_scaled = ratios/R_simdata_356_FCCD0744\n",
    "ratios_err = ratios_df['ratio_err']\n",
    "ratios_err_scaled = ratios_err/R_simdata_356_FCCD0744\n",
    "energies = ratios_df['bin']\n",
    "\n",
    "\n",
    "#plot\n",
    "plt.figure()\n",
    "plt.plot(energies, ratios, 'o', ms=1.25,label = \"FCCD: 0.744mm, no cuts on data\", color = 'orange')\n",
    "plt.plot(energies_cuts, ratios_cuts, 'o', ms =1.25, label = \"FCCD: 0.698mm, cuts on data\", color = 'green')\n",
    "ones = [1]*len(energies)\n",
    "plt.plot(energies, ones, \"k-.\")\n",
    "plt.xlabel('Energy (keV)')\n",
    "plt.ylabel('Data/MC')\n",
    "plt.yscale(\"log\")\n",
    "plt.ylim(0.01,500)\n",
    "plt.xlim(0,450)\n",
    "plt.legend()\n",
    "plt.show()\n",
    "\n",
    "\n",
    "#this is incorrect - will have been scaled twice\n",
    "# ratios_cuts_df = pd.read_csv(data_MC_ratios_cuts)\n",
    "# ratios_cuts = ratios_cuts_df['ratio']\n",
    "# ratios_cuts_scaled = ratios_cuts/R_simdata_356_FCCD0698\n",
    "# ratios_err_cuts = ratios_cuts_df['ratio_err']\n",
    "# ratios_err_cuts_scaled = ratios_err_cuts/R_simdata_356_FCCD0698\n",
    "# energies_cuts = ratios_cuts_df['bin']\n",
    "\n",
    "# plt.figure()\n",
    "# plt.plot(energies, ratios_scaled, 'o', ms=1.25,label = \"FCCD: 0.744mm, no cuts on data\", color = 'orange')\n",
    "# plt.plot(energies_cuts, ratios_cuts_scaled, 'o', ms =1.25, label = \"FCCD: 0.698mm, cuts on data\", color = 'green')\n",
    "# ones = [1]*len(energies)\n",
    "# plt.plot(energies, ones, \"k-.\")\n",
    "# plt.xlabel('Energy (keV)')\n",
    "# plt.ylabel('Data/MC_{scaled}')\n",
    "# plt.yscale(\"log\")\n",
    "# plt.ylim(0.01,500)\n",
    "# plt.xlim(0,450)\n",
    "# plt.legend()\n",
    "# plt.show()\n",
    "\n",
    "\n"
   ]
  },
  {
   "cell_type": "code",
   "execution_count": 3,
   "id": "white-terrain",
   "metadata": {},
   "outputs": [
    {
     "name": "stdout",
     "output_type": "stream",
     "text": [
      "3.1255920187062203\n",
      "4.326534799842924\n"
     ]
    },
    {
     "data": {
      "application/vnd.jupyter.widget-view+json": {
       "model_id": "3672dbef4cf747d4ac472e5bbcc13dc6",
       "version_major": 2,
       "version_minor": 0
      },
      "text/plain": [
       "Canvas(toolbar=Toolbar(toolitems=[('Home', 'Reset original view', 'home', 'home'), ('Back', 'Back to previous …"
      ]
     },
     "metadata": {},
     "output_type": "display_data"
    }
   ],
   "source": [
    "## Calculate data/MC for peak counts only\n",
    "\n",
    "peaks = [79,81,161, 223, 276, 303, 356, 383]\n",
    "energies_peaks = [79.6, 81, 161, 223, 276, 303, 356, 383 ] #truth values keV\n",
    "\n",
    "peak_counts_data = []\n",
    "peak_counts_data_err = []\n",
    "with open('../../data/detectors/I02160A/dlt_observables.json') as json_file:\n",
    "    dlt_observables = json.load(json_file)\n",
    "    for index, peak in enumerate(peaks):\n",
    "        C = dlt_observables['C_'+str(peak)]\n",
    "        peak_counts_data.append(C)\n",
    "        C_err = dlt_observables['C_'+str(peak)+'_err']\n",
    "        peak_counts_data_err.append(C_err)\n",
    "        \n",
    "peak_counts_data_cuts = []\n",
    "peak_counts_data_cuts_err = []\n",
    "with open('../../data/detectors/I02160A/dlt_observables_cuts.json') as json_file:\n",
    "    dlt_observables = json.load(json_file)\n",
    "    for index, peak in enumerate(peaks):\n",
    "        C = dlt_observables['C_'+str(peak)]\n",
    "        peak_counts_data_cuts.append(C)\n",
    "        C_err = dlt_observables['C_'+str(peak)+'_err']\n",
    "        peak_counts_data_cuts_err.append(C_err)\n",
    "\n",
    "peak_counts_MC_FCCD0744 = []\n",
    "peak_counts_MC_FCCD0744_err = []\n",
    "with open('../detectors/I02160A/IC160A_ba_top_81mmNEW8_01_newresolution_FCCD0.744mm_dlt_observables.json') as json_file:\n",
    "    dlt_observables = json.load(json_file)\n",
    "    R_simdata_356_FCCD0744 = dlt_observables['R_simdata_356_counts']\n",
    "    print(R_simdata_356_FCCD0744)\n",
    "    for index, peak in enumerate(peaks):\n",
    "        C = dlt_observables['C_'+str(peak)]\n",
    "        C = C/R_simdata_356_FCCD0744\n",
    "        peak_counts_MC_FCCD0744.append(C)\n",
    "        C_err = dlt_observables['C_'+str(peak)+'_err']\n",
    "        C_err = C_err/R_simdata_356_FCCD0744\n",
    "        peak_counts_MC_FCCD0744_err.append(C_err)\n",
    "        \n",
    "peak_counts_MC_FCCD0698 = []\n",
    "peak_counts_MC_FCCD0698_err = []\n",
    "with open('../detectors/I02160A/IC160A_ba_top_81mmNEW8_01_newresolution_FCCD0.698mm_dlt_observables_cuts.json') as json_file:\n",
    "    dlt_observables = json.load(json_file)\n",
    "    R_simdata_356_FCCD0698 = dlt_observables['R_simdata_356_counts']\n",
    "    print(R_simdata_356_FCCD0698)\n",
    "    for index, peak in enumerate(peaks):\n",
    "        C = dlt_observables['C_'+str(peak)]\n",
    "        C = C/R_simdata_356_FCCD0698\n",
    "        peak_counts_MC_FCCD0698.append(C)\n",
    "        C_err = dlt_observables['C_'+str(peak)+'_err']\n",
    "        C_err = C_err/R_simdata_356_FCCD0698\n",
    "        peak_counts_MC_FCCD0698_err.append(C_err)\n",
    "\n",
    "\n",
    "\n",
    "ratios_counts = np.array(peak_counts_data)/np.array(peak_counts_MC_FCCD0744)\n",
    "ratios_counts_err = ratios_counts*(np.sqrt((np.array(peak_counts_data_err)/np.array(peak_counts_data))**2 + (np.array(peak_counts_MC_FCCD0744_err)/np.array(peak_counts_MC_FCCD0744))**2))\n",
    "\n",
    "ratios_counts_cuts = np.array(peak_counts_data_cuts)/np.array(peak_counts_MC_FCCD0698)\n",
    "ratios_counts_cuts_err = ratios_counts_cuts*(np.sqrt((np.array(peak_counts_data_cuts_err)/np.array(peak_counts_data_cuts))**2 + (np.array(peak_counts_MC_FCCD0698_err)/np.array(peak_counts_MC_FCCD0698))**2))\n",
    "\n",
    "\n",
    "fig, ax = plt.subplots()\n",
    "plt.errorbar(energies_peaks, ratios_counts, xerr=0, yerr =ratios_counts_err, label = \"MC: FCCD 0.744mm\", elinewidth = 1, fmt='o', ms = 3, mew = 2.5 ,color = 'orange')\n",
    "plt.errorbar(energies_peaks, ratios_counts_cuts, xerr=0, yerr =ratios_counts_cuts_err, label = \"Data with cuts, MC:FCCD: 0.698mm\", elinewidth = 1, fmt='o', ms = 3, mew = 2.5, color = 'green')\n",
    "plt.plot(energies, ones, \"k-.\")\n",
    "plt.xlabel('Energy (keV)')\n",
    "plt.ylabel('Data/MC_{peak counts}')\n",
    "#plt.yscale(\"log\")\n",
    "#plt.ylim(0.1,10)\n",
    "plt.ylim(0,2)\n",
    "plt.xlim(0,450)\n",
    "plt.legend()\n",
    "plt.show()"
   ]
  },
  {
   "cell_type": "code",
   "execution_count": null,
   "id": "amazing-exhibition",
   "metadata": {},
   "outputs": [],
   "source": []
  }
 ],
 "metadata": {
  "kernelspec": {
   "display_name": "Python 3",
   "language": "python",
   "name": "python3"
  },
  "language_info": {
   "codemirror_mode": {
    "name": "ipython",
    "version": 3
   },
   "file_extension": ".py",
   "mimetype": "text/x-python",
   "name": "python",
   "nbconvert_exporter": "python",
   "pygments_lexer": "ipython3",
   "version": "3.7.6"
  }
 },
 "nbformat": 4,
 "nbformat_minor": 5
}
